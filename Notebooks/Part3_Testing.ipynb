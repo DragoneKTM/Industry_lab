{
  "nbformat": 4,
  "nbformat_minor": 0,
  "metadata": {
    "colab": {
      "name": "Part3_Testing.ipynb",
      "provenance": [],
      "authorship_tag": "ABX9TyNUdWgqEodJzoD3Ynod0SnJ"
    },
    "kernelspec": {
      "name": "python3",
      "display_name": "Python 3"
    },
    "language_info": {
      "name": "python"
    }
  },
  "cells": [
    {
      "cell_type": "markdown",
      "source": [
        "# Testing\n"
      ],
      "metadata": {
        "id": "n6wDHrVUpkOj"
      }
    },
    {
      "cell_type": "code",
      "execution_count": null,
      "metadata": {
        "id": "OBtmsFuEphmE"
      },
      "outputs": [],
      "source": [
        ""
      ]
    }
  ]
}