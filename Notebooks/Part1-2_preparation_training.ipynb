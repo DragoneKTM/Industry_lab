{
  "nbformat": 4,
  "nbformat_minor": 0,
  "metadata": {
    "colab": {
      "name": "Part1_preparation.ipynb",
      "provenance": [],
      "authorship_tag": "ABX9TyM869HnL8ktxbwWCA6cubuL"
    },
    "kernelspec": {
      "name": "python3",
      "display_name": "Python 3"
    },
    "language_info": {
      "name": "python"
    }
  },
  "cells": [
    {
      "cell_type": "markdown",
      "source": [
        "# Preparation"
      ],
      "metadata": {
        "id": "yrkkP5CFoeZs"
      }
    },
    {
      "cell_type": "markdown",
      "source": [
        "## Dataset load"
      ],
      "metadata": {
        "id": "b1myutXhomsW"
      }
    },
    {
      "cell_type": "code",
      "source": [
        ""
      ],
      "metadata": {
        "id": "r5jdbvkQo6Ho"
      },
      "execution_count": null,
      "outputs": []
    },
    {
      "cell_type": "markdown",
      "source": [
        "## Data exploration and visualization"
      ],
      "metadata": {
        "id": "73pKTqpwor9z"
      }
    },
    {
      "cell_type": "code",
      "source": [
        ""
      ],
      "metadata": {
        "id": "sE3vkY0ro6ro"
      },
      "execution_count": null,
      "outputs": []
    },
    {
      "cell_type": "markdown",
      "source": [
        "## Cleaning"
      ],
      "metadata": {
        "id": "dHUYqkNlozAW"
      }
    },
    {
      "cell_type": "code",
      "source": [
        ""
      ],
      "metadata": {
        "id": "FimO-ehJov7-"
      },
      "execution_count": null,
      "outputs": []
    },
    {
      "cell_type": "markdown",
      "source": [
        "### Saving prepared dataset"
      ],
      "metadata": {
        "id": "P5blcot7o7fQ"
      }
    },
    {
      "cell_type": "code",
      "source": [
        ""
      ],
      "metadata": {
        "id": "dNVTV886pAa0"
      },
      "execution_count": null,
      "outputs": []
    }
  ]
}