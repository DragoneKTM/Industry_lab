{
  "cells": [
    {
      "cell_type": "markdown",
      "metadata": {
        "id": "Q_V9YtgHp2ii"
      },
      "source": [
        "# Deploy"
      ]
    },
    {
      "cell_type": "code",
      "execution_count": 17,
      "metadata": {
        "id": "gi9DG9O5pwd9"
      },
      "outputs": [],
      "source": [
        "#library to read and import file from drive\n",
        "import zipfile\n",
        "\n",
        "from sklearn.model_selection import train_test_split\n",
        "from sklearn.preprocessing import MinMaxScaler\n",
        "\n",
        "#images\n",
        "import cv2 as cv\n",
        "import matplotlib.pyplot as plt\n",
        "import seaborn_image as isns\n",
        "import skimage.exposure\n",
        "\n",
        "import numpy as np\n",
        "from numpy.random import default_rng\n",
        "import random\n",
        "import tensorflow as tf\n",
        "import pandas as pd\n",
        "\n",
        "from tensorflow import keras"
      ]
    },
    {
      "cell_type": "code",
      "execution_count": 18,
      "metadata": {},
      "outputs": [],
      "source": [
        "from utility import split_patches, scale_pixels, resize, crop, predict_image, localize_anom, calc_image_diff"
      ]
    },
    {
      "cell_type": "markdown",
      "metadata": {},
      "source": [
        "### Load pretrained model"
      ]
    },
    {
      "cell_type": "code",
      "execution_count": 19,
      "metadata": {},
      "outputs": [],
      "source": [
        "autoencoder = keras.models.load_model(\"../Models/autoencoderFC\")"
      ]
    },
    {
      "cell_type": "markdown",
      "metadata": {},
      "source": [
        "### Save predicted images "
      ]
    },
    {
      "cell_type": "code",
      "execution_count": 20,
      "metadata": {},
      "outputs": [],
      "source": [
        "dir = \"../Data/Inference\""
      ]
    },
    {
      "cell_type": "code",
      "execution_count": 21,
      "metadata": {},
      "outputs": [],
      "source": [
        "imgs_anom, imgs_name, imgs_score, imgs_valid = [], [], [], []\n",
        "\n",
        "for img in os.listdir(dir):\n",
        "    image = cv.imread((dir + '/' + img), cv.IMREAD_GRAYSCALE)\n",
        "    anom, img_anom, score = predict_image(image, autoencoder)\n",
        "    imgs_name.append(img)\n",
        "    imgs_anom.append(anom)\n",
        "    imgs_score.append(score)\n",
        "    if score < 0.75:\n",
        "        imgs_valid.append(\"Non valid prediction\")\n",
        "    else:\n",
        "        imgs_valid.append(\"Valid prediction\")\n",
        "        \n",
        "    cv.imwrite(dir + \"/pred_\" + img , img_anom*255)"
      ]
    },
    {
      "cell_type": "markdown",
      "metadata": {},
      "source": [
        "### Save summary csv"
      ]
    },
    {
      "cell_type": "code",
      "execution_count": 29,
      "metadata": {},
      "outputs": [],
      "source": [
        "df = {\"name_img\": imgs_name,\n",
        "      \"anomaly\": imgs_anom,\n",
        "      \"reconstruction_score\": imgs_score,\n",
        "      \"threshold\": imgs_valid}"
      ]
    },
    {
      "cell_type": "code",
      "execution_count": 30,
      "metadata": {},
      "outputs": [
        {
          "data": {
            "text/html": [
              "<div>\n",
              "<style scoped>\n",
              "    .dataframe tbody tr th:only-of-type {\n",
              "        vertical-align: middle;\n",
              "    }\n",
              "\n",
              "    .dataframe tbody tr th {\n",
              "        vertical-align: top;\n",
              "    }\n",
              "\n",
              "    .dataframe thead th {\n",
              "        text-align: right;\n",
              "    }\n",
              "</style>\n",
              "<table border=\"1\" class=\"dataframe\">\n",
              "  <thead>\n",
              "    <tr style=\"text-align: right;\">\n",
              "      <th></th>\n",
              "      <th>name_img</th>\n",
              "      <th>anomaly</th>\n",
              "      <th>reconstruction_score</th>\n",
              "      <th>threshold</th>\n",
              "    </tr>\n",
              "  </thead>\n",
              "  <tbody>\n",
              "    <tr>\n",
              "      <th>0</th>\n",
              "      <td>NOK_2.jpg</td>\n",
              "      <td>True</td>\n",
              "      <td>0.965926</td>\n",
              "      <td>Valid prediction</td>\n",
              "    </tr>\n",
              "    <tr>\n",
              "      <th>1</th>\n",
              "      <td>NOK_7.jpg</td>\n",
              "      <td>True</td>\n",
              "      <td>0.974957</td>\n",
              "      <td>Valid prediction</td>\n",
              "    </tr>\n",
              "    <tr>\n",
              "      <th>2</th>\n",
              "      <td>OK_1.jpg</td>\n",
              "      <td>False</td>\n",
              "      <td>0.976762</td>\n",
              "      <td>Valid prediction</td>\n",
              "    </tr>\n",
              "  </tbody>\n",
              "</table>\n",
              "</div>"
            ],
            "text/plain": [
              "    name_img  anomaly  reconstruction_score         threshold\n",
              "0  NOK_2.jpg     True              0.965926  Valid prediction\n",
              "1  NOK_7.jpg     True              0.974957  Valid prediction\n",
              "2   OK_1.jpg    False              0.976762  Valid prediction"
            ]
          },
          "execution_count": 30,
          "metadata": {},
          "output_type": "execute_result"
        }
      ],
      "source": [
        "df = pd.DataFrame(df, index=None)\n",
        "df.to_csv(dir + \"/summary.csv\")\n",
        "df.head()"
      ]
    }
  ],
  "metadata": {
    "colab": {
      "authorship_tag": "ABX9TyOjK5St+UiwQRP3eGrItR66",
      "name": "Part4_deploy.ipynb",
      "provenance": []
    },
    "kernelspec": {
      "display_name": "Python 3.8.12 ('IndustryLab_21-22')",
      "language": "python",
      "name": "python3"
    },
    "language_info": {
      "codemirror_mode": {
        "name": "ipython",
        "version": 3
      },
      "file_extension": ".py",
      "mimetype": "text/x-python",
      "name": "python",
      "nbconvert_exporter": "python",
      "pygments_lexer": "ipython3",
      "version": "3.8.12"
    },
    "vscode": {
      "interpreter": {
        "hash": "bad31b7d64402817355cc44a56217b17b4e7f8a1135750f6b7190de357d98440"
      }
    }
  },
  "nbformat": 4,
  "nbformat_minor": 0
}
