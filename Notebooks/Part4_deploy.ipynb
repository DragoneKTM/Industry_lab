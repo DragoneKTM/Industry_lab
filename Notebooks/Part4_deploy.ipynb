{
  "cells": [
    {
      "cell_type": "markdown",
      "metadata": {
        "id": "Q_V9YtgHp2ii"
      },
      "source": [
        "# Deploy"
      ]
    },
    {
      "cell_type": "code",
      "execution_count": 19,
      "metadata": {
        "id": "gi9DG9O5pwd9"
      },
      "outputs": [],
      "source": [
        "# files\n",
        "import os\n",
        "\n",
        "# images\n",
        "import cv2 as cv\n",
        "\n",
        "# pandas\n",
        "import pandas as pd\n",
        "\n",
        "# load model\n",
        "from tensorflow.keras.models import load_model"
      ]
    },
    {
      "cell_type": "code",
      "execution_count": 20,
      "metadata": {},
      "outputs": [],
      "source": [
        "# utility.py functions\n",
        "from utility import predict_image"
      ]
    },
    {
      "cell_type": "markdown",
      "metadata": {},
      "source": [
        "### Load pretrained model"
      ]
    },
    {
      "cell_type": "code",
      "execution_count": 21,
      "metadata": {},
      "outputs": [],
      "source": [
        "autoencoder = load_model(\"../Models/autoencoderFC\")"
      ]
    },
    {
      "cell_type": "markdown",
      "metadata": {},
      "source": [
        "### Save anomaly location"
      ]
    },
    {
      "cell_type": "code",
      "execution_count": 22,
      "metadata": {},
      "outputs": [],
      "source": [
        "dir = \"../Data/Inference\""
      ]
    },
    {
      "cell_type": "code",
      "execution_count": 23,
      "metadata": {},
      "outputs": [],
      "source": [
        "imgs_anom, imgs_name, imgs_score, imgs_valid = [], [], [], []\n",
        "formats = ['jpg', 'jpeg', 'png', 'bmp']\n",
        "\n",
        "for img in os.listdir(dir):\n",
        "    if img[-3:] in formats:\n",
        "        image = cv.imread((dir + '/' + img), cv.IMREAD_GRAYSCALE)\n",
        "        anom, img_anom, score = predict_image(image, autoencoder)\n",
        "        imgs_name.append(img)\n",
        "        imgs_anom.append(anom)\n",
        "        imgs_score.append(score)\n",
        "        if score < 0.75:\n",
        "            imgs_valid.append(\"Non valid prediction\")\n",
        "        else:\n",
        "            imgs_valid.append(\"Valid prediction\")\n",
        "            \n",
        "        cv.imwrite(dir + \"/Predictions/pred_\" + img , img_anom*255)"
      ]
    },
    {
      "cell_type": "markdown",
      "metadata": {},
      "source": [
        "### Save prediction"
      ]
    },
    {
      "cell_type": "code",
      "execution_count": 24,
      "metadata": {},
      "outputs": [],
      "source": [
        "df = {\"name_img\": imgs_name,\n",
        "      \"anomaly\": imgs_anom,\n",
        "      \"reconstruction_score\": imgs_score,\n",
        "      \"threshold\": imgs_valid}"
      ]
    },
    {
      "cell_type": "code",
      "execution_count": 25,
      "metadata": {},
      "outputs": [
        {
          "data": {
            "text/html": [
              "<div>\n",
              "<style scoped>\n",
              "    .dataframe tbody tr th:only-of-type {\n",
              "        vertical-align: middle;\n",
              "    }\n",
              "\n",
              "    .dataframe tbody tr th {\n",
              "        vertical-align: top;\n",
              "    }\n",
              "\n",
              "    .dataframe thead th {\n",
              "        text-align: right;\n",
              "    }\n",
              "</style>\n",
              "<table border=\"1\" class=\"dataframe\">\n",
              "  <thead>\n",
              "    <tr style=\"text-align: right;\">\n",
              "      <th></th>\n",
              "      <th>name_img</th>\n",
              "      <th>anomaly</th>\n",
              "      <th>reconstruction_score</th>\n",
              "      <th>threshold</th>\n",
              "    </tr>\n",
              "  </thead>\n",
              "  <tbody>\n",
              "    <tr>\n",
              "      <th>0</th>\n",
              "      <td>NOK_2.jpg</td>\n",
              "      <td>True</td>\n",
              "      <td>0.869532</td>\n",
              "      <td>Valid prediction</td>\n",
              "    </tr>\n",
              "    <tr>\n",
              "      <th>1</th>\n",
              "      <td>NOK_7.jpg</td>\n",
              "      <td>True</td>\n",
              "      <td>0.957857</td>\n",
              "      <td>Valid prediction</td>\n",
              "    </tr>\n",
              "    <tr>\n",
              "      <th>2</th>\n",
              "      <td>OK_1.jpg</td>\n",
              "      <td>False</td>\n",
              "      <td>0.959577</td>\n",
              "      <td>Valid prediction</td>\n",
              "    </tr>\n",
              "  </tbody>\n",
              "</table>\n",
              "</div>"
            ],
            "text/plain": [
              "    name_img  anomaly  reconstruction_score         threshold\n",
              "0  NOK_2.jpg     True              0.869532  Valid prediction\n",
              "1  NOK_7.jpg     True              0.957857  Valid prediction\n",
              "2   OK_1.jpg    False              0.959577  Valid prediction"
            ]
          },
          "execution_count": 25,
          "metadata": {},
          "output_type": "execute_result"
        }
      ],
      "source": [
        "df = pd.DataFrame(df, index=None)\n",
        "df.to_csv(dir + \"/Predictions/summary.csv\")\n",
        "df.head()"
      ]
    }
  ],
  "metadata": {
    "colab": {
      "authorship_tag": "ABX9TyOjK5St+UiwQRP3eGrItR66",
      "name": "Part4_deploy.ipynb",
      "provenance": []
    },
    "kernelspec": {
      "display_name": "Python 3.8.12",
      "language": "python",
      "name": "python3"
    },
    "language_info": {
      "codemirror_mode": {
        "name": "ipython",
        "version": 3
      },
      "file_extension": ".py",
      "mimetype": "text/x-python",
      "name": "python",
      "nbconvert_exporter": "python",
      "pygments_lexer": "ipython3",
      "version": "3.8.12"
    },
    "vscode": {
      "interpreter": {
        "hash": "856d7bba0e47fe77acc6ae48eb450147cfdcf1d9e9f6e2537e4c997b7075ac50"
      }
    }
  },
  "nbformat": 4,
  "nbformat_minor": 0
}
