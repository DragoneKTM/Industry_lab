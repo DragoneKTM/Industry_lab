{
  "nbformat": 4,
  "nbformat_minor": 0,
  "metadata": {
    "colab": {
      "name": "Part4_deploy.ipynb",
      "provenance": [],
      "authorship_tag": "ABX9TyOjK5St+UiwQRP3eGrItR66"
    },
    "kernelspec": {
      "name": "python3",
      "display_name": "Python 3"
    },
    "language_info": {
      "name": "python"
    }
  },
  "cells": [
    {
      "cell_type": "markdown",
      "source": [
        "# Deploy"
      ],
      "metadata": {
        "id": "Q_V9YtgHp2ii"
      }
    },
    {
      "cell_type": "code",
      "execution_count": null,
      "metadata": {
        "id": "gi9DG9O5pwd9"
      },
      "outputs": [],
      "source": [
        ""
      ]
    }
  ]
}