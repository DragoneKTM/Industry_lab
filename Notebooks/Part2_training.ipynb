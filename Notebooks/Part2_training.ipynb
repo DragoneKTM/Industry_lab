{
 "cells": [
  {
   "cell_type": "markdown",
   "id": "1c1f3620",
   "metadata": {},
   "source": [
    "# Training"
   ]
  },
  {
   "cell_type": "code",
   "execution_count": 4,
   "id": "ea6978cb",
   "metadata": {},
   "outputs": [],
   "source": [
    "import pandas as pd\n",
    "import numpy as np\n",
    "from numpy import expand_dims\n",
    "\n",
    "#library to read and import file from drive\n",
    "import os\n",
    "import zipfile\n",
    "from shutil import copyfile\n",
    "\n",
    "from sklearn.model_selection import train_test_split\n",
    "\n",
    "#images\n",
    "import cv2 as cv\n",
    "import matplotlib.pyplot as plt\n",
    "import seaborn_image as isns\n",
    "\n",
    "#tensorflow\n",
    "import tensorflow as tf\n",
    "from tensorflow import keras\n",
    "from tensorflow.keras.preprocessing.image import ImageDataGenerator"
   ]
  },
  {
   "cell_type": "markdown",
   "id": "277a7d59",
   "metadata": {},
   "source": [
    "#### Functions"
   ]
  },
  {
   "cell_type": "code",
   "execution_count": 2,
   "id": "066bff64",
   "metadata": {},
   "outputs": [],
   "source": [
    "# Load photos and extract faces\n",
    "def data_loader(dir='./'):\n",
    "    imgs = []\n",
    "    labels = []\n",
    "    for folder in os.listdir(dir):\n",
    "        for img in os.listdir(dir + '/' + folder):\n",
    "            image = cv.imread((dir + '/' + folder + '/' + img))\n",
    "            imgs.append(image)\n",
    "            if folder == \"NOK\":\n",
    "                labels.append(1)\n",
    "            else:\n",
    "                labels.append(0)\n",
    "    return train_test_split(imgs, labels, test_size=0.2, random_state=1, stratify=labels)"
   ]
  },
  {
   "cell_type": "code",
   "execution_count": 8,
   "id": "e5e69c3b",
   "metadata": {},
   "outputs": [],
   "source": [
    "X_train, X_val, y_train, y_val = data_loader(\"../Data/Preprocessed\")"
   ]
  },
  {
   "cell_type": "markdown",
   "id": "5d4c85d3",
   "metadata": {},
   "source": [
    "## Model CNN"
   ]
  },
  {
   "cell_type": "code",
   "execution_count": 9,
   "id": "46aecea6",
   "metadata": {},
   "outputs": [],
   "source": [
    "X_train = np.array(X_train)\n",
    "X_val = np.array(X_val)\n",
    "y_val = np.array(y_val)\n",
    "y_train = np.array(y_train)"
   ]
  },
  {
   "cell_type": "code",
   "execution_count": 10,
   "id": "2a5f4c8c",
   "metadata": {},
   "outputs": [
    {
     "name": "stdout",
     "output_type": "stream",
     "text": [
      "Downloading data from https://storage.googleapis.com/tensorflow/keras-applications/mobilenet_v2/mobilenet_v2_weights_tf_dim_ordering_tf_kernels_1.0_224_no_top.h5\n",
      "9406464/9406464 [==============================] - 0s 0us/step\n"
     ]
    }
   ],
   "source": [
    "# Load a pre-trained neural network to use for transfer learning\n",
    "base_net = tf.keras.applications.MobileNetV2(\n",
    "    input_shape=(224,224,3),\n",
    "    weights='imagenet',\n",
    "    include_top=False,\n",
    "    pooling='avg'\n",
    ")\n",
    "\n",
    "# Set the layers of the base net to not be trained\n",
    "for layer in base_net.layers:\n",
    "    layer.trainable=False"
   ]
  },
  {
   "cell_type": "code",
   "execution_count": 12,
   "id": "62978bba",
   "metadata": {},
   "outputs": [],
   "source": [
    "# Add to the MobileNetV2 and 2 dense layer to adapt the net to our problem\n",
    "inputs = keras.Input(shape=(224,224,3))\n",
    "x = inputs\n",
    "\n",
    "x = keras.applications.mobilenet_v2.preprocess_input(x)\n",
    "\n",
    "x = base_net(x)\n",
    "\n",
    "x = keras.layers.Dense(512, activation='relu')(x)\n",
    "x = keras.layers.Dense(256, activation='relu')(x)\n",
    "x = keras.layers.Dense(1, activation='sigmoid')(x)\n",
    "outputs = x"
   ]
  },
  {
   "cell_type": "code",
   "execution_count": 13,
   "id": "1c96a6c4",
   "metadata": {},
   "outputs": [],
   "source": [
    "net = keras.Model(inputs=inputs, outputs=outputs)"
   ]
  },
  {
   "cell_type": "code",
   "execution_count": 14,
   "id": "0ac50041",
   "metadata": {},
   "outputs": [],
   "source": [
    "net.compile(loss='binary_crossentropy', optimizer=keras.optimizers.RMSprop(), metrics=[\"Accuracy\"])"
   ]
  },
  {
   "cell_type": "code",
   "execution_count": 15,
   "id": "f8ccfb56",
   "metadata": {},
   "outputs": [
    {
     "name": "stdout",
     "output_type": "stream",
     "text": [
      "Epoch 1/50\n",
      "7/7 [==============================] - 6s 474ms/step - loss: 2.1705 - Accuracy: 0.6327 - val_loss: 0.4400 - val_Accuracy: 0.8400\n",
      "Epoch 2/50\n",
      "7/7 [==============================] - 2s 348ms/step - loss: 1.0286 - Accuracy: 0.7347 - val_loss: 0.4740 - val_Accuracy: 0.8400\n",
      "Epoch 3/50\n",
      "7/7 [==============================] - 3s 370ms/step - loss: 1.1370 - Accuracy: 0.6020 - val_loss: 0.4965 - val_Accuracy: 0.8400\n",
      "Epoch 4/50\n",
      "7/7 [==============================] - 3s 393ms/step - loss: 1.0106 - Accuracy: 0.7551 - val_loss: 0.5074 - val_Accuracy: 0.8400\n",
      "Epoch 5/50\n",
      "7/7 [==============================] - 3s 378ms/step - loss: 1.0162 - Accuracy: 0.7959 - val_loss: 0.5235 - val_Accuracy: 0.8400\n",
      "Epoch 6/50\n",
      "7/7 [==============================] - 3s 373ms/step - loss: 1.0269 - Accuracy: 0.6633 - val_loss: 0.4585 - val_Accuracy: 0.8400\n",
      "Epoch 7/50\n",
      "7/7 [==============================] - 2s 363ms/step - loss: 1.0879 - Accuracy: 0.7041 - val_loss: 0.8973 - val_Accuracy: 0.1600\n",
      "Epoch 8/50\n",
      "7/7 [==============================] - 3s 405ms/step - loss: 1.0955 - Accuracy: 0.6633 - val_loss: 0.5652 - val_Accuracy: 0.8400\n",
      "Epoch 9/50\n",
      "7/7 [==============================] - 3s 370ms/step - loss: 1.0514 - Accuracy: 0.8367 - val_loss: 0.5779 - val_Accuracy: 0.8400\n",
      "Epoch 10/50\n",
      "7/7 [==============================] - 3s 368ms/step - loss: 1.0210 - Accuracy: 0.8367 - val_loss: 0.5364 - val_Accuracy: 0.8400\n",
      "Epoch 11/50\n",
      "7/7 [==============================] - 3s 420ms/step - loss: 1.0025 - Accuracy: 0.8469 - val_loss: 0.5643 - val_Accuracy: 0.8400\n",
      "Epoch 12/50\n",
      "7/7 [==============================] - 3s 454ms/step - loss: 1.0028 - Accuracy: 0.8469 - val_loss: 0.5453 - val_Accuracy: 0.8400\n",
      "Epoch 13/50\n",
      "7/7 [==============================] - 3s 410ms/step - loss: 1.0123 - Accuracy: 0.8571 - val_loss: 0.5489 - val_Accuracy: 0.8400\n",
      "Epoch 14/50\n",
      "7/7 [==============================] - 3s 419ms/step - loss: 1.0509 - Accuracy: 0.6020 - val_loss: 0.5240 - val_Accuracy: 0.8400\n",
      "Epoch 15/50\n",
      "7/7 [==============================] - 3s 393ms/step - loss: 1.0380 - Accuracy: 0.8265 - val_loss: 0.5624 - val_Accuracy: 0.8800\n",
      "Epoch 16/50\n",
      "7/7 [==============================] - 3s 413ms/step - loss: 0.9923 - Accuracy: 0.8469 - val_loss: 0.5596 - val_Accuracy: 0.8800\n",
      "Epoch 17/50\n",
      "7/7 [==============================] - 2s 359ms/step - loss: 0.9908 - Accuracy: 0.8163 - val_loss: 0.5115 - val_Accuracy: 0.8800\n",
      "Epoch 18/50\n",
      "7/7 [==============================] - 3s 394ms/step - loss: 0.9830 - Accuracy: 0.8469 - val_loss: 1.0060 - val_Accuracy: 0.1600\n",
      "Epoch 19/50\n",
      "7/7 [==============================] - 3s 378ms/step - loss: 1.0653 - Accuracy: 0.3469 - val_loss: 0.6155 - val_Accuracy: 0.8800\n",
      "Epoch 20/50\n",
      "7/7 [==============================] - 3s 395ms/step - loss: 0.9873 - Accuracy: 0.7857 - val_loss: 0.5393 - val_Accuracy: 0.8800\n",
      "Epoch 21/50\n",
      "7/7 [==============================] - 2s 354ms/step - loss: 0.9826 - Accuracy: 0.8571 - val_loss: 0.6908 - val_Accuracy: 0.1600\n",
      "Epoch 22/50\n",
      "7/7 [==============================] - 3s 366ms/step - loss: 0.9855 - Accuracy: 0.6939 - val_loss: 0.4913 - val_Accuracy: 0.8800\n",
      "Epoch 23/50\n",
      "7/7 [==============================] - 2s 359ms/step - loss: 0.9949 - Accuracy: 0.8571 - val_loss: 0.4964 - val_Accuracy: 0.8800\n",
      "Epoch 24/50\n",
      "7/7 [==============================] - 3s 419ms/step - loss: 0.9790 - Accuracy: 0.8571 - val_loss: 0.6731 - val_Accuracy: 0.4000\n",
      "Epoch 25/50\n",
      "7/7 [==============================] - 3s 392ms/step - loss: 0.9840 - Accuracy: 0.7857 - val_loss: 0.8143 - val_Accuracy: 0.1600\n",
      "Epoch 26/50\n",
      "7/7 [==============================] - 3s 378ms/step - loss: 1.0213 - Accuracy: 0.6122 - val_loss: 0.6981 - val_Accuracy: 0.1600\n",
      "Epoch 27/50\n",
      "7/7 [==============================] - 3s 419ms/step - loss: 0.9885 - Accuracy: 0.5918 - val_loss: 0.5382 - val_Accuracy: 0.8800\n",
      "Epoch 28/50\n",
      "7/7 [==============================] - 3s 388ms/step - loss: 0.9809 - Accuracy: 0.8571 - val_loss: 0.5042 - val_Accuracy: 0.8800\n",
      "Epoch 29/50\n",
      "7/7 [==============================] - 3s 375ms/step - loss: 0.9819 - Accuracy: 0.8265 - val_loss: 0.7476 - val_Accuracy: 0.1600\n",
      "Epoch 30/50\n",
      "7/7 [==============================] - 3s 402ms/step - loss: 0.9876 - Accuracy: 0.6837 - val_loss: 0.5248 - val_Accuracy: 0.8800\n",
      "Epoch 31/50\n",
      "7/7 [==============================] - 3s 395ms/step - loss: 0.9824 - Accuracy: 0.7959 - val_loss: 0.6140 - val_Accuracy: 0.9200\n",
      "Epoch 32/50\n",
      "7/7 [==============================] - 3s 412ms/step - loss: 0.9772 - Accuracy: 0.8061 - val_loss: 0.5202 - val_Accuracy: 0.8800\n",
      "Epoch 33/50\n",
      "7/7 [==============================] - 3s 379ms/step - loss: 0.9617 - Accuracy: 0.8061 - val_loss: 0.4485 - val_Accuracy: 0.8800\n",
      "Epoch 34/50\n",
      "7/7 [==============================] - 3s 385ms/step - loss: 0.9857 - Accuracy: 0.8163 - val_loss: 0.6623 - val_Accuracy: 0.4000\n",
      "Epoch 35/50\n",
      "7/7 [==============================] - 3s 386ms/step - loss: 0.9822 - Accuracy: 0.7653 - val_loss: 0.5594 - val_Accuracy: 0.8800\n",
      "Epoch 36/50\n",
      "7/7 [==============================] - 3s 382ms/step - loss: 0.9650 - Accuracy: 0.8571 - val_loss: 0.4699 - val_Accuracy: 0.8800\n",
      "Epoch 37/50\n",
      "7/7 [==============================] - 3s 384ms/step - loss: 0.9759 - Accuracy: 0.8265 - val_loss: 0.4553 - val_Accuracy: 0.8800\n",
      "Epoch 38/50\n",
      "7/7 [==============================] - 3s 425ms/step - loss: 0.9954 - Accuracy: 0.8571 - val_loss: 0.6936 - val_Accuracy: 0.4000\n",
      "Epoch 39/50\n",
      "7/7 [==============================] - 3s 430ms/step - loss: 0.9755 - Accuracy: 0.7551 - val_loss: 0.8305 - val_Accuracy: 0.1600\n",
      "Epoch 40/50\n",
      "7/7 [==============================] - 3s 400ms/step - loss: 0.9832 - Accuracy: 0.6837 - val_loss: 0.5221 - val_Accuracy: 0.8800\n",
      "Epoch 41/50\n",
      "7/7 [==============================] - 3s 440ms/step - loss: 0.9705 - Accuracy: 0.7959 - val_loss: 0.5914 - val_Accuracy: 0.8800\n",
      "Epoch 42/50\n",
      "7/7 [==============================] - 3s 492ms/step - loss: 0.9736 - Accuracy: 0.8571 - val_loss: 0.5621 - val_Accuracy: 0.8800\n",
      "Epoch 43/50\n",
      "7/7 [==============================] - 3s 400ms/step - loss: 0.9633 - Accuracy: 0.8571 - val_loss: 0.6350 - val_Accuracy: 0.9200\n",
      "Epoch 44/50\n",
      "7/7 [==============================] - 3s 403ms/step - loss: 0.9867 - Accuracy: 0.7449 - val_loss: 0.5807 - val_Accuracy: 0.8800\n",
      "Epoch 45/50\n",
      "7/7 [==============================] - 4s 512ms/step - loss: 0.9714 - Accuracy: 0.8571 - val_loss: 0.6172 - val_Accuracy: 0.8800\n",
      "Epoch 46/50\n",
      "7/7 [==============================] - 3s 398ms/step - loss: 1.0213 - Accuracy: 0.7245 - val_loss: 0.5431 - val_Accuracy: 0.8800\n",
      "Epoch 47/50\n",
      "7/7 [==============================] - 3s 369ms/step - loss: 0.9580 - Accuracy: 0.8367 - val_loss: 0.6733 - val_Accuracy: 0.4000\n",
      "Epoch 48/50\n",
      "7/7 [==============================] - 3s 455ms/step - loss: 0.9777 - Accuracy: 0.7245 - val_loss: 0.5773 - val_Accuracy: 0.8800\n",
      "Epoch 49/50\n",
      "7/7 [==============================] - 3s 366ms/step - loss: 0.9842 - Accuracy: 0.7449 - val_loss: 0.5314 - val_Accuracy: 0.8800\n",
      "Epoch 50/50\n",
      "7/7 [==============================] - 2s 354ms/step - loss: 0.9798 - Accuracy: 0.8571 - val_loss: 0.5355 - val_Accuracy: 0.8800\n"
     ]
    },
    {
     "data": {
      "text/plain": [
       "<keras.callbacks.History at 0x23d105028e0>"
      ]
     },
     "execution_count": 15,
     "metadata": {},
     "output_type": "execute_result"
    }
   ],
   "source": [
    "net.fit(X_train, y_train, batch_size=16, epochs=50, validation_data = (X_val, y_val), class_weight={0:1,1:4})"
   ]
  }
 ],
 "metadata": {
  "kernelspec": {
   "display_name": "Python 3 (ipykernel)",
   "language": "python",
   "name": "python3"
  },
  "language_info": {
   "codemirror_mode": {
    "name": "ipython",
    "version": 3
   },
   "file_extension": ".py",
   "mimetype": "text/x-python",
   "name": "python",
   "nbconvert_exporter": "python",
   "pygments_lexer": "ipython3",
   "version": "3.9.12"
  }
 },
 "nbformat": 4,
 "nbformat_minor": 5
}
