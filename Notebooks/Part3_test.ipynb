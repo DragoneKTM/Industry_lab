{
  "nbformat": 4,
  "nbformat_minor": 0,
  "metadata": {
    "colab": {
      "name": "Part3_test.ipynb",
      "provenance": [],
      "authorship_tag": "ABX9TyO8qdBc8smmEirgAYjP7gvB"
    },
    "kernelspec": {
      "name": "python3",
      "display_name": "Python 3"
    },
    "language_info": {
      "name": "python"
    }
  },
  "cells": [
    {
      "cell_type": "markdown",
      "source": [
        "# Test"
      ],
      "metadata": {
        "id": "P8fDtmu_r-Wm"
      }
    },
    {
      "cell_type": "code",
      "execution_count": null,
      "metadata": {
        "id": "rEU3RG5_r4fU"
      },
      "outputs": [],
      "source": [
        ""
      ]
    }
  ]
}